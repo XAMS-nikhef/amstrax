{
 "cells": [
  {
   "cell_type": "code",
   "execution_count": 1,
   "metadata": {},
   "outputs": [],
   "source": [
    "import numpy as np\n",
    "import matplotlib.pyplot as plt\n",
    "import amstrax\n",
    "import strax\n",
    "%matplotlib inline\n",
    "from matplotlib.colors import LogNorm"
   ]
  },
  {
   "cell_type": "code",
   "execution_count": 2,
   "metadata": {},
   "outputs": [],
   "source": [
    "from strax.utils import print_entry"
   ]
  },
  {
   "cell_type": "code",
   "execution_count": 3,
   "metadata": {},
   "outputs": [],
   "source": [
    "# def print_entry(d, n=0, show_data=False):\n",
    "#     ''' Print entry number n in human-readable formate.\n",
    "#     Default behavior is to skip the entry 'data' since it clutters everything.\n",
    "#     '''\n",
    "#     # Check what number of spaces required for nice alignment\n",
    "#     max_len = np.max([len(key) for key in d.dtype.names])\n",
    "#     el = d[n]\n",
    "#     for key in d.dtype.names:\n",
    "#         if (show_data or key != 'data'):\n",
    "#             print((\"{:<%d}: \" % max_len).format(key), el[key])\n",
    "#     return"
   ]
  },
  {
   "cell_type": "code",
   "execution_count": 4,
   "metadata": {},
   "outputs": [],
   "source": [
    "run_id = '190213_125426'"
   ]
  },
  {
   "cell_type": "code",
   "execution_count": 5,
   "metadata": {},
   "outputs": [],
   "source": [
    "!rm -rf ./strax_data/190213_125426-*"
   ]
  },
  {
   "cell_type": "code",
   "execution_count": 6,
   "metadata": {},
   "outputs": [],
   "source": [
    "st = strax.Context(storage=strax.DataDirectory('./strax_data'),\n",
    "                   #register = [amstrax.RecordsFromPax, amstrax.Records, amstrax.Peaks, amstrax.PeakBasics, \n",
    "                   #            amstrax.NCompeting\n",
    "                   #           ],\n",
    "                   register_all=amstrax,\n",
    "                   config=dict(pax_raw_dir='/data/xenon/xams/run9/raw/data/',\n",
    "                               hitfinder_threshold = 25, min_hits = 2, min_area = 1.,\n",
    "                               use_channels = [0, 3],\n",
    "                               nearby_window = 200e3,\n",
    "                               s2_min_area = 1e4,\n",
    "                               s1_max_width = 300,\n",
    "                               s2_min_width = 300,\n",
    "                               s1_min_n_channels = 2,\n",
    "                               trigger_min_area = 1e5,\n",
    "                               left_event_extension = 1e5,\n",
    "                               right_event_extension = 1e5,\n",
    "                               max_event_duration = 1e6\n",
    "                              )\n",
    "                              )"
   ]
  },
  {
   "cell_type": "code",
   "execution_count": 7,
   "metadata": {},
   "outputs": [
    {
     "data": {
      "text/html": [
       "<div>\n",
       "<style scoped>\n",
       "    .dataframe tbody tr th:only-of-type {\n",
       "        vertical-align: middle;\n",
       "    }\n",
       "\n",
       "    .dataframe tbody tr th {\n",
       "        vertical-align: top;\n",
       "    }\n",
       "\n",
       "    .dataframe thead th {\n",
       "        text-align: right;\n",
       "    }\n",
       "</style>\n",
       "<table border=\"1\" class=\"dataframe\">\n",
       "  <thead>\n",
       "    <tr style=\"text-align: right;\">\n",
       "      <th></th>\n",
       "      <th>option</th>\n",
       "      <th>default</th>\n",
       "      <th>current</th>\n",
       "      <th>applies_to</th>\n",
       "      <th>help</th>\n",
       "    </tr>\n",
       "  </thead>\n",
       "  <tbody>\n",
       "    <tr>\n",
       "      <th>0</th>\n",
       "      <td>min_reconstruction_area</td>\n",
       "      <td>10</td>\n",
       "      <td>&lt;OMITTED&gt;</td>\n",
       "      <td>peak_positions</td>\n",
       "      <td>Skip reconstruction if area (PE) is less than ...</td>\n",
       "    </tr>\n",
       "    <tr>\n",
       "      <th>1</th>\n",
       "      <td>min_hits</td>\n",
       "      <td>1</td>\n",
       "      <td>2</td>\n",
       "      <td>peaks</td>\n",
       "      <td>Minimum number of hits to make a peak</td>\n",
       "    </tr>\n",
       "    <tr>\n",
       "      <th>2</th>\n",
       "      <td>min_area</td>\n",
       "      <td>0</td>\n",
       "      <td>1</td>\n",
       "      <td>peaks</td>\n",
       "      <td>Minimum area of peak</td>\n",
       "    </tr>\n",
       "    <tr>\n",
       "      <th>3</th>\n",
       "      <td>diagnose_sorting</td>\n",
       "      <td>False</td>\n",
       "      <td>&lt;OMITTED&gt;</td>\n",
       "      <td>peaks</td>\n",
       "      <td>Enable runtime checks for sorting and disjoint...</td>\n",
       "    </tr>\n",
       "    <tr>\n",
       "      <th>4</th>\n",
       "      <td>hitfinder_threshold</td>\n",
       "      <td>10</td>\n",
       "      <td>25</td>\n",
       "      <td>peaks</td>\n",
       "      <td>Threshold in ADC counts</td>\n",
       "    </tr>\n",
       "    <tr>\n",
       "      <th>5</th>\n",
       "      <td>left_extension</td>\n",
       "      <td>20</td>\n",
       "      <td>&lt;OMITTED&gt;</td>\n",
       "      <td>peaks</td>\n",
       "      <td>Extend peaks by this many ns left</td>\n",
       "    </tr>\n",
       "    <tr>\n",
       "      <th>6</th>\n",
       "      <td>right_extension</td>\n",
       "      <td>150</td>\n",
       "      <td>&lt;OMITTED&gt;</td>\n",
       "      <td>peaks</td>\n",
       "      <td>Extend peaks by this many ns right</td>\n",
       "    </tr>\n",
       "    <tr>\n",
       "      <th>7</th>\n",
       "      <td>gap_threshold</td>\n",
       "      <td>300</td>\n",
       "      <td>&lt;OMITTED&gt;</td>\n",
       "      <td>peaks</td>\n",
       "      <td>No hits for this much ns means new peak</td>\n",
       "    </tr>\n",
       "    <tr>\n",
       "      <th>8</th>\n",
       "      <td>use_channels</td>\n",
       "      <td>[0, 1, 2, 3, 4, 5, 6, 7, 8, 9, 10, 11, 12, 13,...</td>\n",
       "      <td>[0, 3]</td>\n",
       "      <td>peaks</td>\n",
       "      <td>Channels that correspond to TPC channels</td>\n",
       "    </tr>\n",
       "    <tr>\n",
       "      <th>9</th>\n",
       "      <td>software_zle_channels</td>\n",
       "      <td>[]</td>\n",
       "      <td>&lt;OMITTED&gt;</td>\n",
       "      <td>records</td>\n",
       "      <td>Channels to apply software ZLE to</td>\n",
       "    </tr>\n",
       "    <tr>\n",
       "      <th>10</th>\n",
       "      <td>software_zle_hitfinder_threshold</td>\n",
       "      <td>15</td>\n",
       "      <td>&lt;OMITTED&gt;</td>\n",
       "      <td>records</td>\n",
       "      <td>Min ADC count threshold used if ZLE is applied</td>\n",
       "    </tr>\n",
       "    <tr>\n",
       "      <th>11</th>\n",
       "      <td>software_zle_extension</td>\n",
       "      <td>50</td>\n",
       "      <td>&lt;OMITTED&gt;</td>\n",
       "      <td>records</td>\n",
       "      <td>Number of samples to save around a hit</td>\n",
       "    </tr>\n",
       "    <tr>\n",
       "      <th>12</th>\n",
       "      <td>pax_raw_dir</td>\n",
       "      <td>/data/xenon/raw</td>\n",
       "      <td>/data/xenon/xams/run9/raw/data/</td>\n",
       "      <td>raw_records</td>\n",
       "      <td>Directory with raw pax datasets</td>\n",
       "    </tr>\n",
       "    <tr>\n",
       "      <th>13</th>\n",
       "      <td>stop_after_zips</td>\n",
       "      <td>0</td>\n",
       "      <td>&lt;OMITTED&gt;</td>\n",
       "      <td>raw_records</td>\n",
       "      <td>Convert only this many zip files. 0 = all.</td>\n",
       "    </tr>\n",
       "    <tr>\n",
       "      <th>14</th>\n",
       "      <td>events_per_chunk</td>\n",
       "      <td>50</td>\n",
       "      <td>&lt;OMITTED&gt;</td>\n",
       "      <td>raw_records</td>\n",
       "      <td>Number of events to yield per chunk</td>\n",
       "    </tr>\n",
       "    <tr>\n",
       "      <th>15</th>\n",
       "      <td>tpc_name</td>\n",
       "      <td>XAMS</td>\n",
       "      <td>&lt;OMITTED&gt;</td>\n",
       "      <td>raw_records</td>\n",
       "      <td>Name of your detector</td>\n",
       "    </tr>\n",
       "  </tbody>\n",
       "</table>\n",
       "</div>"
      ],
      "text/plain": [
       "                              option  \\\n",
       "0            min_reconstruction_area   \n",
       "1                           min_hits   \n",
       "2                           min_area   \n",
       "3                   diagnose_sorting   \n",
       "4                hitfinder_threshold   \n",
       "5                     left_extension   \n",
       "6                    right_extension   \n",
       "7                      gap_threshold   \n",
       "8                       use_channels   \n",
       "9              software_zle_channels   \n",
       "10  software_zle_hitfinder_threshold   \n",
       "11            software_zle_extension   \n",
       "12                       pax_raw_dir   \n",
       "13                   stop_after_zips   \n",
       "14                  events_per_chunk   \n",
       "15                          tpc_name   \n",
       "\n",
       "                                              default  \\\n",
       "0                                                  10   \n",
       "1                                                   1   \n",
       "2                                                   0   \n",
       "3                                               False   \n",
       "4                                                  10   \n",
       "5                                                  20   \n",
       "6                                                 150   \n",
       "7                                                 300   \n",
       "8   [0, 1, 2, 3, 4, 5, 6, 7, 8, 9, 10, 11, 12, 13,...   \n",
       "9                                                  []   \n",
       "10                                                 15   \n",
       "11                                                 50   \n",
       "12                                    /data/xenon/raw   \n",
       "13                                                  0   \n",
       "14                                                 50   \n",
       "15                                               XAMS   \n",
       "\n",
       "                            current      applies_to  \\\n",
       "0                         <OMITTED>  peak_positions   \n",
       "1                                 2           peaks   \n",
       "2                                 1           peaks   \n",
       "3                         <OMITTED>           peaks   \n",
       "4                                25           peaks   \n",
       "5                         <OMITTED>           peaks   \n",
       "6                         <OMITTED>           peaks   \n",
       "7                         <OMITTED>           peaks   \n",
       "8                            [0, 3]           peaks   \n",
       "9                         <OMITTED>         records   \n",
       "10                        <OMITTED>         records   \n",
       "11                        <OMITTED>         records   \n",
       "12  /data/xenon/xams/run9/raw/data/     raw_records   \n",
       "13                        <OMITTED>     raw_records   \n",
       "14                        <OMITTED>     raw_records   \n",
       "15                        <OMITTED>     raw_records   \n",
       "\n",
       "                                                 help  \n",
       "0   Skip reconstruction if area (PE) is less than ...  \n",
       "1               Minimum number of hits to make a peak  \n",
       "2                                Minimum area of peak  \n",
       "3   Enable runtime checks for sorting and disjoint...  \n",
       "4                             Threshold in ADC counts  \n",
       "5                   Extend peaks by this many ns left  \n",
       "6                  Extend peaks by this many ns right  \n",
       "7             No hits for this much ns means new peak  \n",
       "8            Channels that correspond to TPC channels  \n",
       "9                   Channels to apply software ZLE to  \n",
       "10     Min ADC count threshold used if ZLE is applied  \n",
       "11             Number of samples to save around a hit  \n",
       "12                    Directory with raw pax datasets  \n",
       "13         Convert only this many zip files. 0 = all.  \n",
       "14                Number of events to yield per chunk  \n",
       "15                              Name of your detector  "
      ]
     },
     "execution_count": 7,
     "metadata": {},
     "output_type": "execute_result"
    }
   ],
   "source": [
    "st.show_config('peak_positions')"
   ]
  },
  {
   "cell_type": "code",
   "execution_count": 9,
   "metadata": {},
   "outputs": [
    {
     "name": "stderr",
     "output_type": "stream",
     "text": [
      "Exception in thread load:peak_positions:\n",
      "Traceback (most recent call last):\n",
      "  File \"/home/xams/anaconda3/envs/strax/lib/python3.6/threading.py\", line 916, in _bootstrap_inner\n",
      "    self.run()\n",
      "  File \"/home/xams/anaconda3/envs/strax/lib/python3.6/threading.py\", line 864, in run\n",
      "    self._target(*self._args, **self._kwargs)\n",
      "  File \"/home/xams/strax/strax/mailbox.py\", line 169, in _send_from\n",
      "    for x in iterable:\n",
      "  File \"/home/xams/strax/strax/storage/common.py\", line 337, in loader\n",
      "    raise DataCorrupted(f\"No chunks of data in {backend_key}\")\n",
      "strax.storage.common.DataCorrupted: No chunks of data in ./strax_data/190213_125426-peak_positions-c7099bf1552140e9c88ade18b65511bcf66a6dfc\n",
      "\n"
     ]
    },
    {
     "ename": "DataCorrupted",
     "evalue": "No chunks of data in ./strax_data/190213_125426-peak_positions-c7099bf1552140e9c88ade18b65511bcf66a6dfc",
     "output_type": "error",
     "traceback": [
      "\u001b[0;31m---------------------------------------------------------------------------\u001b[0m",
      "\u001b[0;31mDataCorrupted\u001b[0m                             Traceback (most recent call last)",
      "\u001b[0;32m<ipython-input-9-f791d3fb6bb2>\u001b[0m in \u001b[0;36m<module>\u001b[0;34m\u001b[0m\n\u001b[0;32m----> 1\u001b[0;31m \u001b[0mst\u001b[0m\u001b[0;34m.\u001b[0m\u001b[0mmake\u001b[0m\u001b[0;34m(\u001b[0m\u001b[0mrun_id\u001b[0m\u001b[0;34m,\u001b[0m \u001b[0;34m'peak_positions'\u001b[0m\u001b[0;34m)\u001b[0m\u001b[0;34m\u001b[0m\u001b[0m\n\u001b[0m",
      "\u001b[0;32m~/strax/strax/context.py\u001b[0m in \u001b[0;36mmake\u001b[0;34m(self, run_id, targets, save, max_workers, **kwargs)\u001b[0m\n\u001b[1;32m    617\u001b[0m         \"\"\"\n\u001b[1;32m    618\u001b[0m         for _ in self.get_iter(run_id, targets,\n\u001b[0;32m--> 619\u001b[0;31m                                save=save, max_workers=max_workers, **kwargs):\n\u001b[0m\u001b[1;32m    620\u001b[0m             \u001b[0;32mpass\u001b[0m\u001b[0;34m\u001b[0m\u001b[0m\n\u001b[1;32m    621\u001b[0m \u001b[0;34m\u001b[0m\u001b[0m\n",
      "\u001b[0;32m~/strax/strax/context.py\u001b[0m in \u001b[0;36mget_iter\u001b[0;34m(self, run_id, targets, save, max_workers, time_range, selection, **kwargs)\u001b[0m\n\u001b[1;32m    596\u001b[0m                 \u001b[0mcomponents\u001b[0m\u001b[0;34m,\u001b[0m\u001b[0;34m\u001b[0m\u001b[0m\n\u001b[1;32m    597\u001b[0m                 \u001b[0mmax_workers\u001b[0m\u001b[0;34m=\u001b[0m\u001b[0mmax_workers\u001b[0m\u001b[0;34m,\u001b[0m\u001b[0;34m\u001b[0m\u001b[0m\n\u001b[0;32m--> 598\u001b[0;31m                 allow_rechunk=self.context_config['allow_rechunk']).iter():\n\u001b[0m\u001b[1;32m    599\u001b[0m             \u001b[0;32mif\u001b[0m \u001b[0mselection\u001b[0m \u001b[0;32mis\u001b[0m \u001b[0;32mnot\u001b[0m \u001b[0;32mNone\u001b[0m\u001b[0;34m:\u001b[0m\u001b[0;34m\u001b[0m\u001b[0m\n\u001b[1;32m    600\u001b[0m                 mask = numexpr.evaluate(selection, local_dict={\n",
      "\u001b[0;32m~/strax/strax/processor.py\u001b[0m in \u001b[0;36miter\u001b[0;34m(self)\u001b[0m\n\u001b[1;32m    162\u001b[0m         \u001b[0;32mif\u001b[0m \u001b[0mtraceback\u001b[0m \u001b[0;32mis\u001b[0m \u001b[0;32mnot\u001b[0m \u001b[0;32mNone\u001b[0m\u001b[0;34m:\u001b[0m\u001b[0;34m\u001b[0m\u001b[0m\n\u001b[1;32m    163\u001b[0m             \u001b[0mself\u001b[0m\u001b[0;34m.\u001b[0m\u001b[0mlog\u001b[0m\u001b[0;34m.\u001b[0m\u001b[0mdebug\u001b[0m\u001b[0;34m(\u001b[0m\u001b[0;34m\"Reraising exception\"\u001b[0m\u001b[0;34m)\u001b[0m\u001b[0;34m\u001b[0m\u001b[0m\n\u001b[0;32m--> 164\u001b[0;31m             \u001b[0;32mraise\u001b[0m \u001b[0mexc\u001b[0m\u001b[0;34m.\u001b[0m\u001b[0mwith_traceback\u001b[0m\u001b[0;34m(\u001b[0m\u001b[0mtraceback\u001b[0m\u001b[0;34m)\u001b[0m\u001b[0;34m\u001b[0m\u001b[0m\n\u001b[0m\u001b[1;32m    165\u001b[0m \u001b[0;34m\u001b[0m\u001b[0m\n\u001b[1;32m    166\u001b[0m         \u001b[0mself\u001b[0m\u001b[0;34m.\u001b[0m\u001b[0mlog\u001b[0m\u001b[0;34m.\u001b[0m\u001b[0mdebug\u001b[0m\u001b[0;34m(\u001b[0m\u001b[0;34m\"Processing finished\"\u001b[0m\u001b[0;34m)\u001b[0m\u001b[0;34m\u001b[0m\u001b[0m\n",
      "\u001b[0;32m~/strax/strax/mailbox.py\u001b[0m in \u001b[0;36m_send_from\u001b[0;34m(self, iterable)\u001b[0m\n\u001b[1;32m    167\u001b[0m         \"\"\"\n\u001b[1;32m    168\u001b[0m         \u001b[0;32mtry\u001b[0m\u001b[0;34m:\u001b[0m\u001b[0;34m\u001b[0m\u001b[0m\n\u001b[0;32m--> 169\u001b[0;31m             \u001b[0;32mfor\u001b[0m \u001b[0mx\u001b[0m \u001b[0;32min\u001b[0m \u001b[0miterable\u001b[0m\u001b[0;34m:\u001b[0m\u001b[0;34m\u001b[0m\u001b[0m\n\u001b[0m\u001b[1;32m    170\u001b[0m                 \u001b[0mself\u001b[0m\u001b[0;34m.\u001b[0m\u001b[0msend\u001b[0m\u001b[0;34m(\u001b[0m\u001b[0mx\u001b[0m\u001b[0;34m)\u001b[0m\u001b[0;34m\u001b[0m\u001b[0m\n\u001b[1;32m    171\u001b[0m         \u001b[0;32mexcept\u001b[0m \u001b[0mMailboxKilled\u001b[0m \u001b[0;32mas\u001b[0m \u001b[0me\u001b[0m\u001b[0;34m:\u001b[0m\u001b[0;34m\u001b[0m\u001b[0m\n",
      "\u001b[0;32m~/strax/strax/storage/common.py\u001b[0m in \u001b[0;36mloader\u001b[0;34m(self, backend_key, n_range, executor)\u001b[0m\n\u001b[1;32m    335\u001b[0m         \u001b[0mmetadata\u001b[0m \u001b[0;34m=\u001b[0m \u001b[0mself\u001b[0m\u001b[0;34m.\u001b[0m\u001b[0mget_metadata\u001b[0m\u001b[0;34m(\u001b[0m\u001b[0mbackend_key\u001b[0m\u001b[0;34m)\u001b[0m\u001b[0;34m\u001b[0m\u001b[0m\n\u001b[1;32m    336\u001b[0m         \u001b[0;32mif\u001b[0m \u001b[0;32mnot\u001b[0m \u001b[0mlen\u001b[0m\u001b[0;34m(\u001b[0m\u001b[0mmetadata\u001b[0m\u001b[0;34m[\u001b[0m\u001b[0;34m'chunks'\u001b[0m\u001b[0;34m]\u001b[0m\u001b[0;34m)\u001b[0m\u001b[0;34m:\u001b[0m\u001b[0;34m\u001b[0m\u001b[0m\n\u001b[0;32m--> 337\u001b[0;31m             \u001b[0;32mraise\u001b[0m \u001b[0mDataCorrupted\u001b[0m\u001b[0;34m(\u001b[0m\u001b[0;34mf\"No chunks of data in {backend_key}\"\u001b[0m\u001b[0;34m)\u001b[0m\u001b[0;34m\u001b[0m\u001b[0m\n\u001b[0m\u001b[1;32m    338\u001b[0m         \u001b[0mdtype\u001b[0m \u001b[0;34m=\u001b[0m \u001b[0mliteral_eval\u001b[0m\u001b[0;34m(\u001b[0m\u001b[0mmetadata\u001b[0m\u001b[0;34m[\u001b[0m\u001b[0;34m'dtype'\u001b[0m\u001b[0;34m]\u001b[0m\u001b[0;34m)\u001b[0m\u001b[0;34m\u001b[0m\u001b[0m\n\u001b[1;32m    339\u001b[0m         \u001b[0mcompressor\u001b[0m \u001b[0;34m=\u001b[0m \u001b[0mmetadata\u001b[0m\u001b[0;34m[\u001b[0m\u001b[0;34m'compressor'\u001b[0m\u001b[0;34m]\u001b[0m\u001b[0;34m\u001b[0m\u001b[0m\n",
      "\u001b[0;31mDataCorrupted\u001b[0m: No chunks of data in ./strax_data/190213_125426-peak_positions-c7099bf1552140e9c88ade18b65511bcf66a6dfc"
     ]
    }
   ],
   "source": [
    "st.make(run_id, 'peak_positions')"
   ]
  },
  {
   "cell_type": "code",
   "execution_count": null,
   "metadata": {},
   "outputs": [],
   "source": []
  },
  {
   "cell_type": "code",
   "execution_count": 10,
   "metadata": {},
   "outputs": [
    {
     "name": "stderr",
     "output_type": "stream",
     "text": [
      "Exception in thread load:events:\n",
      "Traceback (most recent call last):\n",
      "  File \"/home/xams/anaconda3/envs/strax/lib/python3.6/threading.py\", line 916, in _bootstrap_inner\n",
      "    self.run()\n",
      "  File \"/home/xams/anaconda3/envs/strax/lib/python3.6/threading.py\", line 864, in run\n",
      "    self._target(*self._args, **self._kwargs)\n",
      "  File \"/home/xams/strax/strax/mailbox.py\", line 169, in _send_from\n",
      "    for x in iterable:\n",
      "  File \"/home/xams/strax/strax/storage/common.py\", line 337, in loader\n",
      "    raise DataCorrupted(f\"No chunks of data in {backend_key}\")\n",
      "strax.storage.common.DataCorrupted: No chunks of data in ./strax_data/190213_125426-events-bb4601f2dc80a50d20dc382b1adf275549862eb2\n",
      "\n"
     ]
    },
    {
     "ename": "DataCorrupted",
     "evalue": "No chunks of data in ./strax_data/190213_125426-events-bb4601f2dc80a50d20dc382b1adf275549862eb2",
     "output_type": "error",
     "traceback": [
      "\u001b[0;31m---------------------------------------------------------------------------\u001b[0m",
      "\u001b[0;31mDataCorrupted\u001b[0m                             Traceback (most recent call last)",
      "\u001b[0;32m<ipython-input-10-6eede9230da3>\u001b[0m in \u001b[0;36m<module>\u001b[0;34m\u001b[0m\n\u001b[0;32m----> 1\u001b[0;31m \u001b[0mev\u001b[0m \u001b[0;34m=\u001b[0m \u001b[0mst\u001b[0m\u001b[0;34m.\u001b[0m\u001b[0mget_array\u001b[0m\u001b[0;34m(\u001b[0m\u001b[0mrun_id\u001b[0m\u001b[0;34m,\u001b[0m \u001b[0;34m'events'\u001b[0m\u001b[0;34m)\u001b[0m\u001b[0;34m\u001b[0m\u001b[0m\n\u001b[0m",
      "\u001b[0;32m~/strax/strax/context.py\u001b[0m in \u001b[0;36mget_array\u001b[0;34m(self, run_id, targets, save, max_workers, **kwargs)\u001b[0m\n\u001b[1;32m    627\u001b[0m         results = list(self.get_iter(run_id, targets,\n\u001b[1;32m    628\u001b[0m                                      \u001b[0msave\u001b[0m\u001b[0;34m=\u001b[0m\u001b[0msave\u001b[0m\u001b[0;34m,\u001b[0m \u001b[0mmax_workers\u001b[0m\u001b[0;34m=\u001b[0m\u001b[0mmax_workers\u001b[0m\u001b[0;34m,\u001b[0m\u001b[0;34m\u001b[0m\u001b[0m\n\u001b[0;32m--> 629\u001b[0;31m                                      **kwargs))\n\u001b[0m\u001b[1;32m    630\u001b[0m         \u001b[0;32mif\u001b[0m \u001b[0mlen\u001b[0m\u001b[0;34m(\u001b[0m\u001b[0mresults\u001b[0m\u001b[0;34m)\u001b[0m\u001b[0;34m:\u001b[0m\u001b[0;34m\u001b[0m\u001b[0m\n\u001b[1;32m    631\u001b[0m             \u001b[0;32mreturn\u001b[0m \u001b[0mnp\u001b[0m\u001b[0;34m.\u001b[0m\u001b[0mconcatenate\u001b[0m\u001b[0;34m(\u001b[0m\u001b[0mresults\u001b[0m\u001b[0;34m)\u001b[0m\u001b[0;34m\u001b[0m\u001b[0m\n",
      "\u001b[0;32m~/strax/strax/context.py\u001b[0m in \u001b[0;36mget_iter\u001b[0;34m(self, run_id, targets, save, max_workers, time_range, selection, **kwargs)\u001b[0m\n\u001b[1;32m    596\u001b[0m                 \u001b[0mcomponents\u001b[0m\u001b[0;34m,\u001b[0m\u001b[0;34m\u001b[0m\u001b[0m\n\u001b[1;32m    597\u001b[0m                 \u001b[0mmax_workers\u001b[0m\u001b[0;34m=\u001b[0m\u001b[0mmax_workers\u001b[0m\u001b[0;34m,\u001b[0m\u001b[0;34m\u001b[0m\u001b[0m\n\u001b[0;32m--> 598\u001b[0;31m                 allow_rechunk=self.context_config['allow_rechunk']).iter():\n\u001b[0m\u001b[1;32m    599\u001b[0m             \u001b[0;32mif\u001b[0m \u001b[0mselection\u001b[0m \u001b[0;32mis\u001b[0m \u001b[0;32mnot\u001b[0m \u001b[0;32mNone\u001b[0m\u001b[0;34m:\u001b[0m\u001b[0;34m\u001b[0m\u001b[0m\n\u001b[1;32m    600\u001b[0m                 mask = numexpr.evaluate(selection, local_dict={\n",
      "\u001b[0;32m~/strax/strax/processor.py\u001b[0m in \u001b[0;36miter\u001b[0;34m(self)\u001b[0m\n\u001b[1;32m    162\u001b[0m         \u001b[0;32mif\u001b[0m \u001b[0mtraceback\u001b[0m \u001b[0;32mis\u001b[0m \u001b[0;32mnot\u001b[0m \u001b[0;32mNone\u001b[0m\u001b[0;34m:\u001b[0m\u001b[0;34m\u001b[0m\u001b[0m\n\u001b[1;32m    163\u001b[0m             \u001b[0mself\u001b[0m\u001b[0;34m.\u001b[0m\u001b[0mlog\u001b[0m\u001b[0;34m.\u001b[0m\u001b[0mdebug\u001b[0m\u001b[0;34m(\u001b[0m\u001b[0;34m\"Reraising exception\"\u001b[0m\u001b[0;34m)\u001b[0m\u001b[0;34m\u001b[0m\u001b[0m\n\u001b[0;32m--> 164\u001b[0;31m             \u001b[0;32mraise\u001b[0m \u001b[0mexc\u001b[0m\u001b[0;34m.\u001b[0m\u001b[0mwith_traceback\u001b[0m\u001b[0;34m(\u001b[0m\u001b[0mtraceback\u001b[0m\u001b[0;34m)\u001b[0m\u001b[0;34m\u001b[0m\u001b[0m\n\u001b[0m\u001b[1;32m    165\u001b[0m \u001b[0;34m\u001b[0m\u001b[0m\n\u001b[1;32m    166\u001b[0m         \u001b[0mself\u001b[0m\u001b[0;34m.\u001b[0m\u001b[0mlog\u001b[0m\u001b[0;34m.\u001b[0m\u001b[0mdebug\u001b[0m\u001b[0;34m(\u001b[0m\u001b[0;34m\"Processing finished\"\u001b[0m\u001b[0;34m)\u001b[0m\u001b[0;34m\u001b[0m\u001b[0m\n",
      "\u001b[0;32m~/strax/strax/mailbox.py\u001b[0m in \u001b[0;36m_send_from\u001b[0;34m(self, iterable)\u001b[0m\n\u001b[1;32m    167\u001b[0m         \"\"\"\n\u001b[1;32m    168\u001b[0m         \u001b[0;32mtry\u001b[0m\u001b[0;34m:\u001b[0m\u001b[0;34m\u001b[0m\u001b[0m\n\u001b[0;32m--> 169\u001b[0;31m             \u001b[0;32mfor\u001b[0m \u001b[0mx\u001b[0m \u001b[0;32min\u001b[0m \u001b[0miterable\u001b[0m\u001b[0;34m:\u001b[0m\u001b[0;34m\u001b[0m\u001b[0m\n\u001b[0m\u001b[1;32m    170\u001b[0m                 \u001b[0mself\u001b[0m\u001b[0;34m.\u001b[0m\u001b[0msend\u001b[0m\u001b[0;34m(\u001b[0m\u001b[0mx\u001b[0m\u001b[0;34m)\u001b[0m\u001b[0;34m\u001b[0m\u001b[0m\n\u001b[1;32m    171\u001b[0m         \u001b[0;32mexcept\u001b[0m \u001b[0mMailboxKilled\u001b[0m \u001b[0;32mas\u001b[0m \u001b[0me\u001b[0m\u001b[0;34m:\u001b[0m\u001b[0;34m\u001b[0m\u001b[0m\n",
      "\u001b[0;32m~/strax/strax/storage/common.py\u001b[0m in \u001b[0;36mloader\u001b[0;34m(self, backend_key, n_range, executor)\u001b[0m\n\u001b[1;32m    335\u001b[0m         \u001b[0mmetadata\u001b[0m \u001b[0;34m=\u001b[0m \u001b[0mself\u001b[0m\u001b[0;34m.\u001b[0m\u001b[0mget_metadata\u001b[0m\u001b[0;34m(\u001b[0m\u001b[0mbackend_key\u001b[0m\u001b[0;34m)\u001b[0m\u001b[0;34m\u001b[0m\u001b[0m\n\u001b[1;32m    336\u001b[0m         \u001b[0;32mif\u001b[0m \u001b[0;32mnot\u001b[0m \u001b[0mlen\u001b[0m\u001b[0;34m(\u001b[0m\u001b[0mmetadata\u001b[0m\u001b[0;34m[\u001b[0m\u001b[0;34m'chunks'\u001b[0m\u001b[0;34m]\u001b[0m\u001b[0;34m)\u001b[0m\u001b[0;34m:\u001b[0m\u001b[0;34m\u001b[0m\u001b[0m\n\u001b[0;32m--> 337\u001b[0;31m             \u001b[0;32mraise\u001b[0m \u001b[0mDataCorrupted\u001b[0m\u001b[0;34m(\u001b[0m\u001b[0;34mf\"No chunks of data in {backend_key}\"\u001b[0m\u001b[0;34m)\u001b[0m\u001b[0;34m\u001b[0m\u001b[0m\n\u001b[0m\u001b[1;32m    338\u001b[0m         \u001b[0mdtype\u001b[0m \u001b[0;34m=\u001b[0m \u001b[0mliteral_eval\u001b[0m\u001b[0;34m(\u001b[0m\u001b[0mmetadata\u001b[0m\u001b[0;34m[\u001b[0m\u001b[0;34m'dtype'\u001b[0m\u001b[0;34m]\u001b[0m\u001b[0;34m)\u001b[0m\u001b[0;34m\u001b[0m\u001b[0m\n\u001b[1;32m    339\u001b[0m         \u001b[0mcompressor\u001b[0m \u001b[0;34m=\u001b[0m \u001b[0mmetadata\u001b[0m\u001b[0;34m[\u001b[0m\u001b[0;34m'compressor'\u001b[0m\u001b[0;34m]\u001b[0m\u001b[0;34m\u001b[0m\u001b[0m\n",
      "\u001b[0;31mDataCorrupted\u001b[0m: No chunks of data in ./strax_data/190213_125426-events-bb4601f2dc80a50d20dc382b1adf275549862eb2"
     ]
    }
   ],
   "source": [
    "ev = st.get_array(run_id, 'events')"
   ]
  },
  {
   "cell_type": "code",
   "execution_count": 8,
   "metadata": {},
   "outputs": [
    {
     "name": "stderr",
     "output_type": "stream",
     "text": [
      "Using TensorFlow backend.\n"
     ]
    },
    {
     "name": "stdout",
     "output_type": "stream",
     "text": [
      "Found 0 files, 0.00 GB\n"
     ]
    }
   ],
   "source": [
    "st.make(run_id, 'event_basics')"
   ]
  },
  {
   "cell_type": "code",
   "execution_count": 10,
   "metadata": {},
   "outputs": [],
   "source": [
    "eb = st.get_array(run_id, 'event_basics')"
   ]
  },
  {
   "cell_type": "code",
   "execution_count": 13,
   "metadata": {},
   "outputs": [
    {
     "name": "stdout",
     "output_type": "stream",
     "text": [
      "n_peaks             :  2\n",
      "drift_time          :  30808\n",
      "s1_index            :  0\n",
      "s1_area             :  8548.0\n",
      "s1_area_fraction_top:  1.0\n",
      "s1_range_50p_area   :  27.402094\n",
      "s1_n_competing      :  2\n",
      "s2_index            :  1\n",
      "s2_area             :  2697189.0\n",
      "s2_area_fraction_top:  1.0\n",
      "s2_range_50p_area   :  450.0356\n",
      "s2_n_competing      :  0\n",
      "x_s2                :  0.0\n",
      "y_s2                :  0.0\n"
     ]
    }
   ],
   "source": [
    "print_entry(eb)"
   ]
  }
 ],
 "metadata": {
  "kernelspec": {
   "display_name": "Python 3",
   "language": "python",
   "name": "python3"
  },
  "language_info": {
   "codemirror_mode": {
    "name": "ipython",
    "version": 3
   },
   "file_extension": ".py",
   "mimetype": "text/x-python",
   "name": "python",
   "nbconvert_exporter": "python",
   "pygments_lexer": "ipython3",
   "version": "3.6.9"
  }
 },
 "nbformat": 4,
 "nbformat_minor": 2
}
