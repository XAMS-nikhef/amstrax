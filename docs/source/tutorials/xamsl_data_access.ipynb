{
 "cells": [
  {
   "cell_type": "markdown",
   "id": "89051158",
   "metadata": {},
   "source": [
    "# XAMSL data access\n",
    "\n",
    "_S. Di Pede, last update: 30.3.2022_\n",
    "\n",
    "By the time of writing this documentation, you can have access to the data if you activate the ``amstrax_2021`` environment on Stoomboot.\n",
    "\n",
    "This documentation page uses the same structure idea of the [STRAXEN documentation](https://straxen.readthedocs.io/en/latest/index.html).\n",
    "\n",
    "As a first step, check that you have access to the MongoDB on the xams-daq PC. Have a look at the [AMSTRAX documentation](https://amstrax.readthedocs.io/en/latest/setup.html) and ask your colleagues for the credentials. "
   ]
  },
  {
   "cell_type": "code",
   "execution_count": 1,
   "id": "a314ab7c",
   "metadata": {},
   "outputs": [
    {
     "name": "stderr",
     "output_type": "stream",
     "text": [
      "2022-03-30 14:40:05,669 - utilix - WARNING - Could not load a configuration file. You can create one at /user/serenap/.xenon_config, or set a custom path using\n",
      "\n",
      "export XENON_CONFIG=path/to/your/config\n",
      "\n"
     ]
    }
   ],
   "source": [
    "import strax\n",
    "import straxen\n",
    "import amstrax"
   ]
  },
  {
   "cell_type": "markdown",
   "id": "2f151841",
   "metadata": {},
   "source": [
    "If the imports do not succeed please check that the location of the **__init__.py** file is here: ``/data/xenon/xamsl/software/amstrax/amstrax/``"
   ]
  },
  {
   "cell_type": "code",
   "execution_count": 2,
   "id": "351c508f",
   "metadata": {},
   "outputs": [
    {
     "name": "stdout",
     "output_type": "stream",
     "text": [
      "Amstrax location: /data/xenon/xamsl/software/amstrax/amstrax/__init__.py\n",
      "Strax location: /data/xenon/xamsl/software/strax/strax/__init__.py\n",
      "Straxen location: /data/xenon/xamsl/software/straxen/straxen/__init__.py\n"
     ]
    }
   ],
   "source": [
    "import os.path\n",
    "print(f'Amstrax location: {os.path.abspath(amstrax.__file__)}')\n",
    "print(f'Strax location: {os.path.abspath(strax.__file__)}')\n",
    "print(f'Straxen location: {os.path.abspath(straxen.__file__)}')"
   ]
  },
  {
   "cell_type": "markdown",
   "id": "153d1c44",
   "metadata": {},
   "source": [
    "In ``amstrax`` we have two contexts for the two different detectors operated in the setup:\n",
    "\n",
    "  * [XAMSL detector](https://wiki.nikhef.nl/xenon/doku.php?id=xamsl) \n",
    "  * [XAMS detector](https://wiki.nikhef.nl/xenon/doku.php?id=xams)\n",
    "    \n",
    "and you can access the data just with the following commands:"
   ]
  },
  {
   "cell_type": "code",
   "execution_count": 3,
   "id": "903d1506",
   "metadata": {},
   "outputs": [
    {
     "name": "stdout",
     "output_type": "stream",
     "text": [
      "[amstrax.rundb.RunDB, readonly: True, strax.storage.files.DataDirectory, readonly: True, path: /data/xenon/xamsl/raw/, take_only: ('raw_records_v1724', 'raw_records_v1730', 'raw_records_aqmon'), strax.storage.files.DataDirectory, readonly: True, path: /data/xenon/xamsl/processed/, strax.storage.files.DataDirectory, path: ./amstrax_data]\n",
      "[amstrax.rundb.RunDB, readonly: True, strax.storage.files.DataDirectory, readonly: True, path: /data/xenon/xams/raw/, take_only: ('raw_records_v1724', 'raw_records_v1730', 'raw_records_aqmon'), strax.storage.files.DataDirectory, readonly: True, path: /data/xenon/xams/processed/, strax.storage.files.DataDirectory, path: ./amstrax_data]\n"
     ]
    }
   ],
   "source": [
    "st = amstrax.contexts.xams_little()\n",
    "st_xams = amstrax.contexts.xams()"
   ]
  },
  {
   "cell_type": "markdown",
   "id": "0e173589",
   "metadata": {},
   "source": [
    "The ``contexts`` method prints out the data storage directories:\n",
    "\n",
    "  * the run DataBase: ``amstrax.rundb.RunDB``, storing the metadata\n",
    "  * two strax storage DataDirectory: ``/data/xenon/xamsl/raw/`` and ``/data/xenon/xamsl/processed/``, storing, respectively, the raw data (raw_records) and all the other high-level processed data\n",
    "  * a general path where the data are stored in case they have not been processed yet in the above strax storage folders: ``./amstrax_data``. "
   ]
  },
  {
   "cell_type": "markdown",
   "id": "0f09aba8",
   "metadata": {},
   "source": [
    "### Run selection\n",
    "\n",
    "In this documentation, we focus only on accessing the XAMSL data. To select the measurement of your interest please have a look at the [details of XAMSL measurements](https://wiki.nikhef.nl/xenon/doku.php?id=xamsl:run1_lxe_measurements).\n",
    "\n",
    "To select _all_ the available runs in the runDB (not only XAMSL measurements) you can use the strax method:"
   ]
  },
  {
   "cell_type": "code",
   "execution_count": 4,
   "id": "18603944",
   "metadata": {},
   "outputs": [
    {
     "name": "stderr",
     "output_type": "stream",
     "text": [
      "Fetching run info from MongoDB: 100%|██████████████████████████████████████████████████████████| 2574/2574 [00:00<00:00, 7309.73it/s]\n"
     ]
    },
    {
     "data": {
      "application/vnd.jupyter.widget-view+json": {
       "model_id": "0150827047e94a5394ab34d76b92fc0e",
       "version_major": 2,
       "version_minor": 0
      },
      "text/plain": [
       "Checking data availability:   0%|          | 0/2 [00:00<?, ?it/s]"
      ]
     },
     "metadata": {},
     "output_type": "display_data"
    },
    {
     "data": {
      "text/html": [
       "<div>\n",
       "<style scoped>\n",
       "    .dataframe tbody tr th:only-of-type {\n",
       "        vertical-align: middle;\n",
       "    }\n",
       "\n",
       "    .dataframe tbody tr th {\n",
       "        vertical-align: top;\n",
       "    }\n",
       "\n",
       "    .dataframe thead th {\n",
       "        text-align: right;\n",
       "    }\n",
       "</style>\n",
       "<table border=\"1\" class=\"dataframe\">\n",
       "  <thead>\n",
       "    <tr style=\"text-align: right;\">\n",
       "      <th></th>\n",
       "      <th>name</th>\n",
       "      <th>number</th>\n",
       "      <th>mode</th>\n",
       "      <th>start</th>\n",
       "      <th>end</th>\n",
       "      <th>tags</th>\n",
       "      <th>livetime</th>\n",
       "      <th>processing_status</th>\n",
       "      <th>raw_records_v1730_available</th>\n",
       "      <th>raw_records_v1724_available</th>\n",
       "    </tr>\n",
       "  </thead>\n",
       "  <tbody>\n",
       "    <tr>\n",
       "      <th>0</th>\n",
       "      <td>000000</td>\n",
       "      <td>0</td>\n",
       "      <td>V1724_Run0</td>\n",
       "      <td>2020-11-23 08:36:02.740</td>\n",
       "      <td>2020-11-23 08:36:50.846</td>\n",
       "      <td></td>\n",
       "      <td>0 days 00:00:48.106000</td>\n",
       "      <td>NaN</td>\n",
       "      <td>False</td>\n",
       "      <td>False</td>\n",
       "    </tr>\n",
       "    <tr>\n",
       "      <th>1</th>\n",
       "      <td>000001</td>\n",
       "      <td>1</td>\n",
       "      <td>V1724_Run0</td>\n",
       "      <td>2020-11-24 07:51:24.798</td>\n",
       "      <td>2020-11-24 07:51:36.827</td>\n",
       "      <td></td>\n",
       "      <td>0 days 00:00:12.029000</td>\n",
       "      <td>NaN</td>\n",
       "      <td>False</td>\n",
       "      <td>False</td>\n",
       "    </tr>\n",
       "    <tr>\n",
       "      <th>2</th>\n",
       "      <td>000002</td>\n",
       "      <td>2</td>\n",
       "      <td>V1724_Run0</td>\n",
       "      <td>2020-11-24 12:55:19.577</td>\n",
       "      <td>2020-11-24 12:55:28.594</td>\n",
       "      <td></td>\n",
       "      <td>0 days 00:00:09.017000</td>\n",
       "      <td>NaN</td>\n",
       "      <td>False</td>\n",
       "      <td>False</td>\n",
       "    </tr>\n",
       "    <tr>\n",
       "      <th>3</th>\n",
       "      <td>000003</td>\n",
       "      <td>3</td>\n",
       "      <td>V1724_Run0</td>\n",
       "      <td>2020-11-24 13:08:10.073</td>\n",
       "      <td>2020-11-24 13:08:19.093</td>\n",
       "      <td></td>\n",
       "      <td>0 days 00:00:09.020000</td>\n",
       "      <td>NaN</td>\n",
       "      <td>False</td>\n",
       "      <td>False</td>\n",
       "    </tr>\n",
       "    <tr>\n",
       "      <th>4</th>\n",
       "      <td>000004</td>\n",
       "      <td>4</td>\n",
       "      <td>V1730_Run3</td>\n",
       "      <td>2020-11-24 13:54:39.023</td>\n",
       "      <td>2020-11-24 13:55:00.072</td>\n",
       "      <td></td>\n",
       "      <td>0 days 00:00:21.049000</td>\n",
       "      <td>NaN</td>\n",
       "      <td>False</td>\n",
       "      <td>False</td>\n",
       "    </tr>\n",
       "    <tr>\n",
       "      <th>...</th>\n",
       "      <td>...</td>\n",
       "      <td>...</td>\n",
       "      <td>...</td>\n",
       "      <td>...</td>\n",
       "      <td>...</td>\n",
       "      <td>...</td>\n",
       "      <td>...</td>\n",
       "      <td>...</td>\n",
       "      <td>...</td>\n",
       "      <td>...</td>\n",
       "    </tr>\n",
       "    <tr>\n",
       "      <th>2569</th>\n",
       "      <td>002569</td>\n",
       "      <td>2569</td>\n",
       "      <td>test_run_two_digitizers</td>\n",
       "      <td>2021-12-16 13:01:03.553</td>\n",
       "      <td>2021-12-16 13:01:11.676</td>\n",
       "      <td></td>\n",
       "      <td>0 days 00:00:08.123000</td>\n",
       "      <td>NaN</td>\n",
       "      <td>False</td>\n",
       "      <td>False</td>\n",
       "    </tr>\n",
       "    <tr>\n",
       "      <th>2570</th>\n",
       "      <td>002570</td>\n",
       "      <td>2570</td>\n",
       "      <td>test_run_two_digitizers</td>\n",
       "      <td>2021-12-16 13:02:03.861</td>\n",
       "      <td>2021-12-16 13:02:11.974</td>\n",
       "      <td></td>\n",
       "      <td>0 days 00:00:08.113000</td>\n",
       "      <td>NaN</td>\n",
       "      <td>False</td>\n",
       "      <td>False</td>\n",
       "    </tr>\n",
       "    <tr>\n",
       "      <th>2571</th>\n",
       "      <td>002571</td>\n",
       "      <td>2571</td>\n",
       "      <td>test_run_two_digitizers</td>\n",
       "      <td>2021-12-16 13:03:04.114</td>\n",
       "      <td>2021-12-16 13:03:09.134</td>\n",
       "      <td></td>\n",
       "      <td>0 days 00:00:05.020000</td>\n",
       "      <td>NaN</td>\n",
       "      <td>False</td>\n",
       "      <td>False</td>\n",
       "    </tr>\n",
       "    <tr>\n",
       "      <th>2572</th>\n",
       "      <td>002572</td>\n",
       "      <td>2572</td>\n",
       "      <td>test_run_two_digitizers</td>\n",
       "      <td>2021-12-16 13:04:04.404</td>\n",
       "      <td>2021-12-16 13:04:09.532</td>\n",
       "      <td></td>\n",
       "      <td>0 days 00:00:05.128000</td>\n",
       "      <td>pending</td>\n",
       "      <td>False</td>\n",
       "      <td>False</td>\n",
       "    </tr>\n",
       "    <tr>\n",
       "      <th>2573</th>\n",
       "      <td>002573</td>\n",
       "      <td>2573</td>\n",
       "      <td>test_run_two_digitizers</td>\n",
       "      <td>2021-12-16 13:05:04.660</td>\n",
       "      <td>2021-12-16 13:05:09.685</td>\n",
       "      <td></td>\n",
       "      <td>0 days 00:00:05.025000</td>\n",
       "      <td>pending</td>\n",
       "      <td>False</td>\n",
       "      <td>False</td>\n",
       "    </tr>\n",
       "  </tbody>\n",
       "</table>\n",
       "<p>2574 rows × 10 columns</p>\n",
       "</div>"
      ],
      "text/plain": [
       "        name number                     mode                   start  \\\n",
       "0     000000      0               V1724_Run0 2020-11-23 08:36:02.740   \n",
       "1     000001      1               V1724_Run0 2020-11-24 07:51:24.798   \n",
       "2     000002      2               V1724_Run0 2020-11-24 12:55:19.577   \n",
       "3     000003      3               V1724_Run0 2020-11-24 13:08:10.073   \n",
       "4     000004      4               V1730_Run3 2020-11-24 13:54:39.023   \n",
       "...      ...    ...                      ...                     ...   \n",
       "2569  002569   2569  test_run_two_digitizers 2021-12-16 13:01:03.553   \n",
       "2570  002570   2570  test_run_two_digitizers 2021-12-16 13:02:03.861   \n",
       "2571  002571   2571  test_run_two_digitizers 2021-12-16 13:03:04.114   \n",
       "2572  002572   2572  test_run_two_digitizers 2021-12-16 13:04:04.404   \n",
       "2573  002573   2573  test_run_two_digitizers 2021-12-16 13:05:04.660   \n",
       "\n",
       "                         end tags               livetime processing_status  \\\n",
       "0    2020-11-23 08:36:50.846      0 days 00:00:48.106000               NaN   \n",
       "1    2020-11-24 07:51:36.827      0 days 00:00:12.029000               NaN   \n",
       "2    2020-11-24 12:55:28.594      0 days 00:00:09.017000               NaN   \n",
       "3    2020-11-24 13:08:19.093      0 days 00:00:09.020000               NaN   \n",
       "4    2020-11-24 13:55:00.072      0 days 00:00:21.049000               NaN   \n",
       "...                      ...  ...                    ...               ...   \n",
       "2569 2021-12-16 13:01:11.676      0 days 00:00:08.123000               NaN   \n",
       "2570 2021-12-16 13:02:11.974      0 days 00:00:08.113000               NaN   \n",
       "2571 2021-12-16 13:03:09.134      0 days 00:00:05.020000               NaN   \n",
       "2572 2021-12-16 13:04:09.532      0 days 00:00:05.128000           pending   \n",
       "2573 2021-12-16 13:05:09.685      0 days 00:00:05.025000           pending   \n",
       "\n",
       "      raw_records_v1730_available  raw_records_v1724_available  \n",
       "0                           False                        False  \n",
       "1                           False                        False  \n",
       "2                           False                        False  \n",
       "3                           False                        False  \n",
       "4                           False                        False  \n",
       "...                           ...                          ...  \n",
       "2569                        False                        False  \n",
       "2570                        False                        False  \n",
       "2571                        False                        False  \n",
       "2572                        False                        False  \n",
       "2573                        False                        False  \n",
       "\n",
       "[2574 rows x 10 columns]"
      ]
     },
     "execution_count": 4,
     "metadata": {},
     "output_type": "execute_result"
    }
   ],
   "source": [
    "runs = st.select_runs()\n",
    "runs"
   ]
  },
  {
   "cell_type": "markdown",
   "id": "b5a23e9c",
   "metadata": {},
   "source": [
    "### Datastructure\n",
    "\n",
    "The [datastructure of XAMSL](https://amstrax.readthedocs.io/en/latest/reference/datastructure_xams_little.html) is different from the [datastructure of XAMS](https://amstrax.readthedocs.io/en/latest/reference/datastructure_xams.html). The two datastructures are kept separate to allow easier reprocessing and changes, therefore you need to keep in mind the right context and data-kind when you want to look into the data. \n",
    "\n",
    "The available data kinds for XAMSL can be looked through the plugins class registry:"
   ]
  },
  {
   "cell_type": "code",
   "execution_count": 5,
   "id": "28f1eb71",
   "metadata": {},
   "outputs": [
    {
     "name": "stdout",
     "output_type": "stream",
     "text": [
      "Which data kinds are available for XAMSL data?\n",
      "\n",
      "radon_records\n",
      "radon_pulse_counts\n",
      "radon_hits\n",
      "radon_peaks\n",
      "radon_lone_hits\n",
      "radon_peak_basics\n",
      "raw_records_v1724\n",
      "raw_records_v1730\n",
      "raw_records_aqmon\n"
     ]
    }
   ],
   "source": [
    "plugins = st._plugin_class_registry\n",
    "\n",
    "print(f\"Which data kinds are available for XAMSL data?\\n\")\n",
    "\n",
    "for datakind in plugins.keys():\n",
    "    print(datakind)"
   ]
  },
  {
   "cell_type": "markdown",
   "id": "696fa07f",
   "metadata": {},
   "source": [
    "The XAMS data kinds are instead:"
   ]
  },
  {
   "cell_type": "code",
   "execution_count": 6,
   "id": "67e14eb2",
   "metadata": {},
   "outputs": [
    {
     "name": "stdout",
     "output_type": "stream",
     "text": [
      "Which data kinds are available for XAMS data?\n",
      "\n",
      "records\n",
      "pulse_counts\n",
      "hits\n",
      "peaks\n",
      "lone_hits\n",
      "peak_basics\n",
      "raw_records_v1724\n",
      "raw_records_v1730\n",
      "raw_records_aqmon\n"
     ]
    }
   ],
   "source": [
    "plugins_xams = st_xams._plugin_class_registry\n",
    "\n",
    "print(f\"Which data kinds are available for XAMS data?\\n\")\n",
    "\n",
    "for datakind_xams in plugins_xams.keys():\n",
    "    print(datakind_xams)"
   ]
  },
  {
   "cell_type": "markdown",
   "id": "5e8750d8",
   "metadata": {},
   "source": [
    "You might have noticed that XAMSL plugins have the ``radon_`` keyword before the data-kind name except in the ``raw_records`` level."
   ]
  },
  {
   "cell_type": "markdown",
   "id": "362d1ce1",
   "metadata": {},
   "source": [
    "Info about the datakind can be retrieved using:"
   ]
  },
  {
   "cell_type": "code",
   "execution_count": 7,
   "id": "f954dc25",
   "metadata": {},
   "outputs": [
    {
     "data": {
      "text/html": [
       "<div>\n",
       "<style scoped>\n",
       "    .dataframe tbody tr th:only-of-type {\n",
       "        vertical-align: middle;\n",
       "    }\n",
       "\n",
       "    .dataframe tbody tr th {\n",
       "        vertical-align: top;\n",
       "    }\n",
       "\n",
       "    .dataframe thead th {\n",
       "        text-align: right;\n",
       "    }\n",
       "</style>\n",
       "<table border=\"1\" class=\"dataframe\">\n",
       "  <thead>\n",
       "    <tr style=\"text-align: right;\">\n",
       "      <th></th>\n",
       "      <th>Field name</th>\n",
       "      <th>Data type</th>\n",
       "      <th>Comment</th>\n",
       "    </tr>\n",
       "  </thead>\n",
       "  <tbody>\n",
       "    <tr>\n",
       "      <th>0</th>\n",
       "      <td>time</td>\n",
       "      <td>int64</td>\n",
       "      <td>Start time since unix epoch [ns]</td>\n",
       "    </tr>\n",
       "    <tr>\n",
       "      <th>1</th>\n",
       "      <td>length</td>\n",
       "      <td>int32</td>\n",
       "      <td>Length of the interval in samples</td>\n",
       "    </tr>\n",
       "    <tr>\n",
       "      <th>2</th>\n",
       "      <td>dt</td>\n",
       "      <td>int16</td>\n",
       "      <td>Width of one sample [ns]</td>\n",
       "    </tr>\n",
       "    <tr>\n",
       "      <th>3</th>\n",
       "      <td>channel</td>\n",
       "      <td>int16</td>\n",
       "      <td>Channel/PMT number</td>\n",
       "    </tr>\n",
       "    <tr>\n",
       "      <th>4</th>\n",
       "      <td>pulse_length</td>\n",
       "      <td>int32</td>\n",
       "      <td>Length of pulse to which the record belongs (w...</td>\n",
       "    </tr>\n",
       "    <tr>\n",
       "      <th>5</th>\n",
       "      <td>record_i</td>\n",
       "      <td>int16</td>\n",
       "      <td>Fragment number in the pulse</td>\n",
       "    </tr>\n",
       "    <tr>\n",
       "      <th>6</th>\n",
       "      <td>area</td>\n",
       "      <td>int32</td>\n",
       "      <td>Integral in ADC counts x samples</td>\n",
       "    </tr>\n",
       "    <tr>\n",
       "      <th>7</th>\n",
       "      <td>reduction_level</td>\n",
       "      <td>uint8</td>\n",
       "      <td>Level of data reduction applied (strax.Reducti...</td>\n",
       "    </tr>\n",
       "    <tr>\n",
       "      <th>8</th>\n",
       "      <td>baseline</td>\n",
       "      <td>float32</td>\n",
       "      <td>Baseline in ADC counts. data = int(baseline) -...</td>\n",
       "    </tr>\n",
       "    <tr>\n",
       "      <th>9</th>\n",
       "      <td>baseline_rms</td>\n",
       "      <td>float32</td>\n",
       "      <td>Baseline RMS in ADC counts. data = baseline - ...</td>\n",
       "    </tr>\n",
       "    <tr>\n",
       "      <th>10</th>\n",
       "      <td>amplitude_bit_shift</td>\n",
       "      <td>int16</td>\n",
       "      <td>Multiply data by 2**(this number). Baseline is...</td>\n",
       "    </tr>\n",
       "    <tr>\n",
       "      <th>11</th>\n",
       "      <td>data</td>\n",
       "      <td>('&lt;i2', (110,))</td>\n",
       "      <td>Waveform data in raw counts above integer part...</td>\n",
       "    </tr>\n",
       "  </tbody>\n",
       "</table>\n",
       "</div>"
      ],
      "text/plain": [
       "             Field name        Data type  \\\n",
       "0                  time            int64   \n",
       "1                length            int32   \n",
       "2                    dt            int16   \n",
       "3               channel            int16   \n",
       "4          pulse_length            int32   \n",
       "5              record_i            int16   \n",
       "6                  area            int32   \n",
       "7       reduction_level            uint8   \n",
       "8              baseline          float32   \n",
       "9          baseline_rms          float32   \n",
       "10  amplitude_bit_shift            int16   \n",
       "11                 data  ('<i2', (110,))   \n",
       "\n",
       "                                              Comment  \n",
       "0                    Start time since unix epoch [ns]  \n",
       "1                   Length of the interval in samples  \n",
       "2                            Width of one sample [ns]  \n",
       "3                                  Channel/PMT number  \n",
       "4   Length of pulse to which the record belongs (w...  \n",
       "5                        Fragment number in the pulse  \n",
       "6                    Integral in ADC counts x samples  \n",
       "7   Level of data reduction applied (strax.Reducti...  \n",
       "8   Baseline in ADC counts. data = int(baseline) -...  \n",
       "9   Baseline RMS in ADC counts. data = baseline - ...  \n",
       "10  Multiply data by 2**(this number). Baseline is...  \n",
       "11  Waveform data in raw counts above integer part...  "
      ]
     },
     "execution_count": 7,
     "metadata": {},
     "output_type": "execute_result"
    }
   ],
   "source": [
    "st.data_info('radon_records')"
   ]
  },
  {
   "cell_type": "markdown",
   "id": "e4366c98",
   "metadata": {},
   "source": [
    "### Data loading\n",
    "\n",
    "You can load the data using the ``st.get_array`` function of the strax/straxen framework. Below, we load data for the measurement ``000736``. You might notice that we only load ``raw_records_v1730`` because this was a measurement [taken with the V1730 digitizer](https://wiki.nikhef.nl/xenon/doku.php?id=xamsl:run1_lxe_measurements)."
   ]
  },
  {
   "cell_type": "code",
   "execution_count": 8,
   "id": "9c51c131",
   "metadata": {},
   "outputs": [
    {
     "data": {
      "application/vnd.jupyter.widget-view+json": {
       "model_id": "624a60021b89436aa3807f79126917cd",
       "version_major": 2,
       "version_minor": 0
      },
      "text/plain": [
       "Loading raw_records_v1730: |          | 0.00 % [00:00<?]"
      ]
     },
     "metadata": {},
     "output_type": "display_data"
    },
    {
     "data": {
      "application/vnd.jupyter.widget-view+json": {
       "model_id": "c50e4de2693942a29c0232dcc3af6f67",
       "version_major": 2,
       "version_minor": 0
      },
      "text/plain": [
       "Loading radon_records: |          | 0.00 % [00:00<?]"
      ]
     },
     "metadata": {},
     "output_type": "display_data"
    },
    {
     "data": {
      "application/vnd.jupyter.widget-view+json": {
       "model_id": "f1d476d36c074e79a1d06efa4968fcfc",
       "version_major": 2,
       "version_minor": 0
      },
      "text/plain": [
       "Loading radon_pulse_counts: |          | 0.00 % [00:00<?]"
      ]
     },
     "metadata": {},
     "output_type": "display_data"
    },
    {
     "data": {
      "application/vnd.jupyter.widget-view+json": {
       "model_id": "0247314a28334b399c8faf42b90b101d",
       "version_major": 2,
       "version_minor": 0
      },
      "text/plain": [
       "Loading radon_peaks: |          | 0.00 % [00:00<?]"
      ]
     },
     "metadata": {},
     "output_type": "display_data"
    },
    {
     "data": {
      "application/vnd.jupyter.widget-view+json": {
       "model_id": "1c4de6bcde2b46d1973312f7578e1744",
       "version_major": 2,
       "version_minor": 0
      },
      "text/plain": [
       "Loading radon_lone_hits: |          | 0.00 % [00:00<?]"
      ]
     },
     "metadata": {},
     "output_type": "display_data"
    },
    {
     "data": {
      "application/vnd.jupyter.widget-view+json": {
       "model_id": "8476171b32fa4adda23937d2928961c4",
       "version_major": 2,
       "version_minor": 0
      },
      "text/plain": [
       "Loading radon_peak_basics: |          | 0.00 % [00:00<?]"
      ]
     },
     "metadata": {},
     "output_type": "display_data"
    }
   ],
   "source": [
    "rr = st.get_array('000736', 'raw_records_v1730',progress_bar=True)\n",
    "rec = st.get_array('000736', 'radon_records',progress_bar=True)\n",
    "pulse_count = st.get_array('000736', 'radon_pulse_counts',progress_bar=True)\n",
    "peaks = st.get_array('000736', 'radon_peaks',progress_bar=True)\n",
    "lone_hits = st.get_array('000736', 'radon_lone_hits',progress_bar=True)\n",
    "peak_basics = st.get_array('000736', 'radon_peak_basics',progress_bar=True)"
   ]
  },
  {
   "cell_type": "markdown",
   "id": "fc44605f",
   "metadata": {},
   "source": [
    "### Details about raw_records in XAMSL\n",
    "\n",
    "As you can see in this [wiki-page](https://wiki.nikhef.nl/xenon/doku.php?id=xamsl:run1_lxe_measurements), you will find you raw data only in one of the ``raw_records`` type and only in specific channels. Let's take as an example the measurement ``000282`` and ``000736``, which have been taken respectively with the V1724 and V1730 digitizers. "
   ]
  },
  {
   "cell_type": "code",
   "execution_count": 9,
   "id": "6a1274c4",
   "metadata": {},
   "outputs": [
    {
     "data": {
      "application/vnd.jupyter.widget-view+json": {
       "model_id": "e7be32ebf1684a6ab9e506a0938b7787",
       "version_major": 2,
       "version_minor": 0
      },
      "text/plain": [
       "Loading raw_records_v1724: |          | 0.00 % [00:00<?]"
      ]
     },
     "metadata": {},
     "output_type": "display_data"
    },
    {
     "data": {
      "application/vnd.jupyter.widget-view+json": {
       "model_id": "11dda6282e234b58a9fdeb3eb08b4e92",
       "version_major": 2,
       "version_minor": 0
      },
      "text/plain": [
       "Loading raw_records_v1724: |          | 0.00 % [00:00<?]"
      ]
     },
     "metadata": {},
     "output_type": "display_data"
    },
    {
     "data": {
      "application/vnd.jupyter.widget-view+json": {
       "model_id": "49c4500841b446bba4f8ae26df3989b4",
       "version_major": 2,
       "version_minor": 0
      },
      "text/plain": [
       "Loading raw_records_v1730: |          | 0.00 % [00:00<?]"
      ]
     },
     "metadata": {},
     "output_type": "display_data"
    },
    {
     "data": {
      "application/vnd.jupyter.widget-view+json": {
       "model_id": "c42eae28acec41199cad54b4dbdbd725",
       "version_major": 2,
       "version_minor": 0
      },
      "text/plain": [
       "Loading radon_records: |          | 0.00 % [00:00<?]"
      ]
     },
     "metadata": {},
     "output_type": "display_data"
    }
   ],
   "source": [
    "rr_000736_v1724=st.get_array('000736', 'raw_records_v1724',progress_bar=True)\n",
    "rr_000282_v1724=st.get_array('000282', 'raw_records_v1724',progress_bar=True)\n",
    "rr_000282_v1730=st.get_array('000282', 'raw_records_v1730',progress_bar=True)\n",
    "rec_000282=st.get_array('000282', 'radon_records',progress_bar=True)"
   ]
  },
  {
   "cell_type": "markdown",
   "id": "18b5bbe0",
   "metadata": {},
   "source": [
    "We do expect to see data in:\n",
    "  * channel 0, 1 in measurement ``000736`` of ``raw_records_v1730`` and their respective records \n",
    "  * channel 2, 3 in measurement ``000282`` of ``raw_records_v1724`` and their respective records \n",
    "  \n",
    "All the other channels must be empty. Let's check."
   ]
  },
  {
   "cell_type": "code",
   "execution_count": 10,
   "id": "619e4b97",
   "metadata": {},
   "outputs": [
    {
     "name": "stdout",
     "output_type": "stream",
     "text": [
      "Measurement 000736, raw_records_v1730\n",
      "Channel 0, data:\n",
      "[[8220 8222 8225 ... 7530 7654 7743]\n",
      " [7777 7808 7851 ... 8220 8222 8220]\n",
      " [8223 8220 8222 ... 8221 8222 8224]\n",
      " ...\n",
      " [8222 8221 8225 ... 8224 8219 8222]\n",
      " [8221 8227 8225 ... 8223 8225 8223]\n",
      " [8225 8223 8225 ...    0    0    0]]\n",
      "Channel 1, data:\n",
      "[[8199 8200 8200 ... 8012 8003 8025]\n",
      " [8077 8102 8098 ... 8199 8199 8203]\n",
      " [8203 8204 8205 ... 8199 8199 8202]\n",
      " ...\n",
      " [8199 8202 8200 ... 8201 8199 8198]\n",
      " [8202 8199 8201 ... 8201 8200 8201]\n",
      " [8199 8202 8199 ...    0    0    0]]\n",
      "Channel 2, data:\n",
      "[]\n",
      "Channel 3, data:\n",
      "[]\n",
      "Channel 4, data:\n",
      "[]\n",
      "Channel 5, data:\n",
      "[]\n",
      "Channel 6, data:\n",
      "[]\n",
      "Channel 7, data:\n",
      "[]\n",
      "\n",
      "Measurement 000736, raw_records_v1724\n",
      "Channel 0, data:\n",
      "[]\n",
      "Channel 1, data:\n",
      "[]\n",
      "Channel 2, data:\n",
      "[]\n",
      "Channel 3, data:\n",
      "[]\n",
      "Channel 4, data:\n",
      "[]\n",
      "Channel 5, data:\n",
      "[]\n",
      "Channel 6, data:\n",
      "[]\n",
      "Channel 7, data:\n",
      "[]\n"
     ]
    }
   ],
   "source": [
    "print(f'Measurement 000736, raw_records_v1730')\n",
    "for ch in range(8):\n",
    "    rr_ch=rr[rr['channel']==ch]\n",
    "    print(f'Channel {ch}, data:')\n",
    "    print(rr_ch['data'])\n",
    "    \n",
    "print(f'\\nMeasurement 000736, raw_records_v1724')\n",
    "for ch in range(8):\n",
    "    rr_ch=rr_000736_v1724[rr_000736_v1724['channel']==ch]\n",
    "    print(f'Channel {ch}, data:')\n",
    "    print(rr_ch['data'])  "
   ]
  },
  {
   "cell_type": "code",
   "execution_count": 11,
   "id": "d6750523",
   "metadata": {},
   "outputs": [
    {
     "name": "stdout",
     "output_type": "stream",
     "text": [
      "Measurement 000282, raw_records_v1730\n",
      "Channel 0, data:\n",
      "[]\n",
      "Channel 1, data:\n",
      "[]\n",
      "Channel 2, data:\n",
      "[]\n",
      "Channel 3, data:\n",
      "[]\n",
      "Channel 4, data:\n",
      "[]\n",
      "Channel 5, data:\n",
      "[]\n",
      "Channel 6, data:\n",
      "[]\n",
      "Channel 7, data:\n",
      "[]\n",
      "\n",
      "Measurement 000282, raw_records_v1724\n",
      "Channel 0, data:\n",
      "[]\n",
      "Channel 1, data:\n",
      "[]\n",
      "Channel 2, data:\n",
      "[[16082 16082 16082 ... 16077 16079 16081]\n",
      " [16076 16077 16078 ...     0     0     0]\n",
      " [16083 16083 16082 ...     0     0     0]\n",
      " ...\n",
      " [16080 16083 16081 ...     0     0     0]\n",
      " [16083 16081 16082 ...     0     0     0]\n",
      " [16077 16077 16078 ...     0     0     0]]\n",
      "Channel 3, data:\n",
      "[[16099 16099 16098 ...     0     0     0]\n",
      " [16085 16084 16086 ...     0     0     0]\n",
      " [16100 16098 16098 ... 15994 16020 15965]\n",
      " ...\n",
      " [16100 16095     0 ...     0     0     0]\n",
      " [16014 16033 15998 ...     0     0     0]\n",
      " [16094 16093 16093 ... 16078     0     0]]\n",
      "Channel 4, data:\n",
      "[]\n",
      "Channel 5, data:\n",
      "[]\n",
      "Channel 6, data:\n",
      "[]\n",
      "Channel 7, data:\n",
      "[]\n"
     ]
    }
   ],
   "source": [
    "print(f'Measurement 000282, raw_records_v1730')\n",
    "for ch in range(8):\n",
    "    rr_ch=rr_000282_v1730[rr_000282_v1730['channel']==ch]\n",
    "    print(f'Channel {ch}, data:')\n",
    "    print(rr_ch['data'])\n",
    "    \n",
    "print(f'\\nMeasurement 000282, raw_records_v1724')\n",
    "for ch in range(8):\n",
    "    rr_ch=rr_000282_v1724[rr_000282_v1724['channel']==ch]\n",
    "    print(f'Channel {ch}, data:')\n",
    "    print(rr_ch['data'])  "
   ]
  },
  {
   "cell_type": "markdown",
   "id": "c8187e6b",
   "metadata": {},
   "source": [
    "The same rule stands for the ``radon_records`` of the specific measurement."
   ]
  },
  {
   "cell_type": "code",
   "execution_count": 12,
   "id": "1f60bd35",
   "metadata": {},
   "outputs": [
    {
     "name": "stdout",
     "output_type": "stream",
     "text": [
      "Measurement 000736\n",
      "Channel 0, data:\n",
      "[[  0   0   0 ... 692 568 479]\n",
      " [445 414 371 ...   0   0   0]\n",
      " [  0   0   0 ...   0   0   0]\n",
      " ...\n",
      " [  0   0   0 ...   0   0   0]\n",
      " [  0   0   0 ...   0   0   0]\n",
      " [  0   0   0 ...   0   0   0]]\n",
      "Channel 1, data:\n",
      "[[  0   0   0 ... 188 197 175]\n",
      " [123  98 102 ...   0   0   0]\n",
      " [  0   0   0 ...   0   0   0]\n",
      " ...\n",
      " [  0   0   0 ...   0   0   0]\n",
      " [  0   0   0 ...   0   0   0]\n",
      " [  0   0   0 ...   0   0   0]]\n",
      "Channel 2, data:\n",
      "[]\n",
      "Channel 3, data:\n",
      "[]\n",
      "Channel 4, data:\n",
      "[]\n",
      "Channel 5, data:\n",
      "[]\n",
      "Channel 6, data:\n",
      "[]\n",
      "Channel 7, data:\n",
      "[]\n",
      "\n",
      "Measurement 000282\n",
      "Channel 0, data:\n",
      "[]\n",
      "Channel 1, data:\n",
      "[]\n",
      "Channel 2, data:\n",
      "[[0 0 0 ... 5 3 1]\n",
      " [0 0 0 ... 0 0 0]\n",
      " [0 0 0 ... 0 0 0]\n",
      " ...\n",
      " [0 0 0 ... 0 0 0]\n",
      " [0 0 0 ... 0 0 0]\n",
      " [0 0 0 ... 0 0 0]]\n",
      "Channel 3, data:\n",
      "[[  0   0   0 ...   0   0   0]\n",
      " [  0   0   0 ...   0   0   0]\n",
      " [  0   0   0 ... 102  76 131]\n",
      " ...\n",
      " [  0   0   0 ...   0   0   0]\n",
      " [ 40  21  56 ...   0   0   0]\n",
      " [  0   0   0 ...  18   0   0]]\n",
      "Channel 4, data:\n",
      "[]\n",
      "Channel 5, data:\n",
      "[]\n",
      "Channel 6, data:\n",
      "[]\n",
      "Channel 7, data:\n",
      "[]\n"
     ]
    }
   ],
   "source": [
    "print(f'Measurement 000736')\n",
    "for ch in range(8):\n",
    "    rr_ch=rec[rec['channel']==ch]\n",
    "    print(f'Channel {ch}, data:')\n",
    "    print(rr_ch['data'])\n",
    "    \n",
    "print(f'\\nMeasurement 000282')\n",
    "for ch in range(8):\n",
    "    rr_ch=rec_000282[rec_000282['channel']==ch]\n",
    "    print(f'Channel {ch}, data:')\n",
    "    print(rr_ch['data'])  "
   ]
  },
  {
   "cell_type": "markdown",
   "id": "fe3e96c0",
   "metadata": {},
   "source": [
    "### Details of the XAMSL measurements\n",
    "\n",
    "You can also load the details of the XAMSL measurements inside your working Jupyter Notebook during your analysis. The [amstrax_files](https://github.com/XAMS-nikhef/amstrax_files) contain informations of the lab-logbook such as start/stop of the recirculation."
   ]
  },
  {
   "cell_type": "code",
   "execution_count": 13,
   "id": "67f89996",
   "metadata": {},
   "outputs": [],
   "source": [
    "import amstrax_files"
   ]
  },
  {
   "cell_type": "markdown",
   "id": "077100ac",
   "metadata": {},
   "source": [
    "This is the list of the files contained in the ``amstrax_files`` at the time of writing this documentation."
   ]
  },
  {
   "cell_type": "code",
   "execution_count": 14,
   "id": "08d16411",
   "metadata": {},
   "outputs": [
    {
     "name": "stdout",
     "output_type": "stream",
     "text": [
      "['999999.tar', 'example.json', 'rundoc_999999.json', 'xamsl_measurements.csv']\n"
     ]
    }
   ],
   "source": [
    "print(amstrax_files.list_files())"
   ]
  },
  {
   "cell_type": "markdown",
   "id": "d9762073",
   "metadata": {},
   "source": [
    "Load the ``xamsl_measurements`` details file "
   ]
  },
  {
   "cell_type": "code",
   "execution_count": 15,
   "id": "481e4fa9",
   "metadata": {},
   "outputs": [],
   "source": [
    "measurements = amstrax_files.get_file('xamsl_measurements.csv')"
   ]
  },
  {
   "cell_type": "markdown",
   "id": "d2f6bd2c",
   "metadata": {},
   "source": [
    "Select the range of measurements you are interested in [e.g. the recirculation and purification effect investigation](https://wiki.nikhef.nl/xenon/doku.php?id=xamsl:run1_lxe_measurements:run1_lxe_details) with the V1730 digitizer during stable HV conditions on the PMTs."
   ]
  },
  {
   "cell_type": "code",
   "execution_count": 16,
   "id": "9975a1d9",
   "metadata": {},
   "outputs": [
    {
     "data": {
      "text/html": [
       "<div>\n",
       "<style scoped>\n",
       "    .dataframe tbody tr th:only-of-type {\n",
       "        vertical-align: middle;\n",
       "    }\n",
       "\n",
       "    .dataframe tbody tr th {\n",
       "        vertical-align: top;\n",
       "    }\n",
       "\n",
       "    .dataframe thead th {\n",
       "        text-align: right;\n",
       "    }\n",
       "</style>\n",
       "<table border=\"1\" class=\"dataframe\">\n",
       "  <thead>\n",
       "    <tr style=\"text-align: right;\">\n",
       "      <th></th>\n",
       "      <th>run</th>\n",
       "      <th>pmt_bottom_v</th>\n",
       "      <th>pmt_top_v</th>\n",
       "      <th>notes</th>\n",
       "    </tr>\n",
       "  </thead>\n",
       "  <tbody>\n",
       "    <tr>\n",
       "      <th>1219</th>\n",
       "      <td>1588</td>\n",
       "      <td>-560</td>\n",
       "      <td>-590</td>\n",
       "      <td>reci on/getter on-digi th 30ADC</td>\n",
       "    </tr>\n",
       "    <tr>\n",
       "      <th>1220</th>\n",
       "      <td>1589</td>\n",
       "      <td>-560</td>\n",
       "      <td>-590</td>\n",
       "      <td>reci on/getter on-digi th 30ADC</td>\n",
       "    </tr>\n",
       "    <tr>\n",
       "      <th>1221</th>\n",
       "      <td>1590</td>\n",
       "      <td>-560</td>\n",
       "      <td>-590</td>\n",
       "      <td>reci on/getter off-digi th 30ADC</td>\n",
       "    </tr>\n",
       "    <tr>\n",
       "      <th>1222</th>\n",
       "      <td>1591</td>\n",
       "      <td>-560</td>\n",
       "      <td>-590</td>\n",
       "      <td>reci on/getter off-digi th 30ADC</td>\n",
       "    </tr>\n",
       "    <tr>\n",
       "      <th>1223</th>\n",
       "      <td>1592</td>\n",
       "      <td>-560</td>\n",
       "      <td>-590</td>\n",
       "      <td>reci on/getter off-digi th 30ADC</td>\n",
       "    </tr>\n",
       "    <tr>\n",
       "      <th>...</th>\n",
       "      <td>...</td>\n",
       "      <td>...</td>\n",
       "      <td>...</td>\n",
       "      <td>...</td>\n",
       "    </tr>\n",
       "    <tr>\n",
       "      <th>1579</th>\n",
       "      <td>1948</td>\n",
       "      <td>-560</td>\n",
       "      <td>-590</td>\n",
       "      <td>reci on/getter off-digi th 30ADC</td>\n",
       "    </tr>\n",
       "    <tr>\n",
       "      <th>1580</th>\n",
       "      <td>1949</td>\n",
       "      <td>-560</td>\n",
       "      <td>-590</td>\n",
       "      <td>reci on/getter off-digi th 30ADC</td>\n",
       "    </tr>\n",
       "    <tr>\n",
       "      <th>1581</th>\n",
       "      <td>1950</td>\n",
       "      <td>-560</td>\n",
       "      <td>-590</td>\n",
       "      <td>reci on/getter off-digi th 30ADC</td>\n",
       "    </tr>\n",
       "    <tr>\n",
       "      <th>1582</th>\n",
       "      <td>1951</td>\n",
       "      <td>-560</td>\n",
       "      <td>-590</td>\n",
       "      <td>reci on/getter off-digi th 30ADC</td>\n",
       "    </tr>\n",
       "    <tr>\n",
       "      <th>1583</th>\n",
       "      <td>1952</td>\n",
       "      <td>-560</td>\n",
       "      <td>-590</td>\n",
       "      <td>reci on/getter on-digi th 30ADC</td>\n",
       "    </tr>\n",
       "  </tbody>\n",
       "</table>\n",
       "<p>365 rows × 4 columns</p>\n",
       "</div>"
      ],
      "text/plain": [
       "       run  pmt_bottom_v  pmt_top_v                              notes\n",
       "1219  1588          -560       -590    reci on/getter on-digi th 30ADC\n",
       "1220  1589          -560       -590    reci on/getter on-digi th 30ADC\n",
       "1221  1590          -560       -590   reci on/getter off-digi th 30ADC\n",
       "1222  1591          -560       -590   reci on/getter off-digi th 30ADC\n",
       "1223  1592          -560       -590   reci on/getter off-digi th 30ADC\n",
       "...    ...           ...        ...                                ...\n",
       "1579  1948          -560       -590   reci on/getter off-digi th 30ADC\n",
       "1580  1949          -560       -590   reci on/getter off-digi th 30ADC\n",
       "1581  1950          -560       -590   reci on/getter off-digi th 30ADC\n",
       "1582  1951          -560       -590   reci on/getter off-digi th 30ADC\n",
       "1583  1952          -560       -590    reci on/getter on-digi th 30ADC\n",
       "\n",
       "[365 rows x 4 columns]"
      ]
     },
     "execution_count": 16,
     "metadata": {},
     "output_type": "execute_result"
    }
   ],
   "source": [
    "moi = measurements.loc[(measurements['run'] >= 1588) & (measurements['run'] <= 1952)]\n",
    "moi"
   ]
  },
  {
   "cell_type": "code",
   "execution_count": 17,
   "id": "6e22b92d",
   "metadata": {},
   "outputs": [
    {
     "data": {
      "text/plain": [
       "1219      reci on/getter on-digi th 30ADC\n",
       "1220      reci on/getter on-digi th 30ADC\n",
       "1221     reci on/getter off-digi th 30ADC\n",
       "1222     reci on/getter off-digi th 30ADC\n",
       "1223     reci on/getter off-digi th 30ADC\n",
       "                      ...                \n",
       "1579     reci on/getter off-digi th 30ADC\n",
       "1580     reci on/getter off-digi th 30ADC\n",
       "1581     reci on/getter off-digi th 30ADC\n",
       "1582     reci on/getter off-digi th 30ADC\n",
       "1583      reci on/getter on-digi th 30ADC\n",
       "Name: notes, Length: 365, dtype: object"
      ]
     },
     "execution_count": 17,
     "metadata": {},
     "output_type": "execute_result"
    }
   ],
   "source": [
    "moi['notes']"
   ]
  },
  {
   "cell_type": "markdown",
   "id": "8acc8051",
   "metadata": {},
   "source": [
    "### Data not available! -> You can process data by yourself! \n",
    " \n",
    "If, for some reason, you receive a message that data are not available, you can try to make the data by yourself.\n",
    "\n",
    "Specify the run number you want to make data of."
   ]
  },
  {
   "cell_type": "code",
   "execution_count": null,
   "id": "1cb58c82",
   "metadata": {},
   "outputs": [],
   "source": [
    "run_list = ['','',...]"
   ]
  },
  {
   "cell_type": "markdown",
   "id": "e1f7834d",
   "metadata": {},
   "source": [
    "And the target data-kind you need"
   ]
  },
  {
   "cell_type": "code",
   "execution_count": null,
   "id": "c1a43466",
   "metadata": {},
   "outputs": [],
   "source": [
    "target = '...'"
   ]
  },
  {
   "cell_type": "markdown",
   "id": "922946f8",
   "metadata": {},
   "source": [
    "Then just look over and use the strax function ``st.make``. "
   ]
  },
  {
   "cell_type": "code",
   "execution_count": null,
   "id": "f073433f",
   "metadata": {},
   "outputs": [],
   "source": [
    "from strax.utils import tqdm\n",
    "\n",
    "for r in tqdm(run_list):\n",
    "    print(r)\n",
    "    st.make(r,target,progress_bar=True)"
   ]
  },
  {
   "cell_type": "markdown",
   "id": "794962b5",
   "metadata": {},
   "source": [
    "As we said before, these new processed data will be saved in the storage directory ``./amstrax_data``. You don't need to remake the data every time as strax will know now where to find them."
   ]
  },
  {
   "cell_type": "markdown",
   "id": "b864da45",
   "metadata": {},
   "source": [
    "### Veel plezier met XAMSL data!"
   ]
  }
 ],
 "metadata": {
  "kernelspec": {
   "display_name": "Python 3 (ipykernel)",
   "language": "python",
   "name": "python3"
  },
  "language_info": {
   "codemirror_mode": {
    "name": "ipython",
    "version": 3
   },
   "file_extension": ".py",
   "mimetype": "text/x-python",
   "name": "python",
   "nbconvert_exporter": "python",
   "pygments_lexer": "ipython3",
   "version": "3.8.0"
  }
 },
 "nbformat": 4,
 "nbformat_minor": 5
}
